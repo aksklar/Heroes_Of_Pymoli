{
 "cells": [
  {
   "cell_type": "markdown",
   "metadata": {},
   "source": [
    "# Heroes of Pymoli Data Analysis"
   ]
  },
  {
   "cell_type": "code",
   "execution_count": 1,
   "metadata": {
    "collapsed": true
   },
   "outputs": [],
   "source": [
    "#Import Dependencies\n",
    "import pandas as pd\n",
    "import numpy as np"
   ]
  },
  {
   "cell_type": "code",
   "execution_count": 2,
   "metadata": {
    "collapsed": true
   },
   "outputs": [],
   "source": [
    "#Create json path and read json\n",
    "json_path = \"purchase_data.json\"\n",
    "purchase_df = pd.read_json(json_path)\n",
    "#purchase_df.head()"
   ]
  },
  {
   "cell_type": "code",
   "execution_count": 3,
   "metadata": {
    "collapsed": true
   },
   "outputs": [],
   "source": [
    "#purchase_df.dtypes"
   ]
  },
  {
   "cell_type": "markdown",
   "metadata": {},
   "source": [
    "## Player Count"
   ]
  },
  {
   "cell_type": "code",
   "execution_count": 4,
   "metadata": {},
   "outputs": [
    {
     "data": {
      "text/html": [
       "<div>\n",
       "<style scoped>\n",
       "    .dataframe tbody tr th:only-of-type {\n",
       "        vertical-align: middle;\n",
       "    }\n",
       "\n",
       "    .dataframe tbody tr th {\n",
       "        vertical-align: top;\n",
       "    }\n",
       "\n",
       "    .dataframe thead th {\n",
       "        text-align: right;\n",
       "    }\n",
       "</style>\n",
       "<table border=\"1\" class=\"dataframe\">\n",
       "  <thead>\n",
       "    <tr style=\"text-align: right;\">\n",
       "      <th></th>\n",
       "      <th>Total Players</th>\n",
       "    </tr>\n",
       "  </thead>\n",
       "  <tbody>\n",
       "    <tr>\n",
       "      <th>0</th>\n",
       "      <td>573</td>\n",
       "    </tr>\n",
       "  </tbody>\n",
       "</table>\n",
       "</div>"
      ],
      "text/plain": [
       "   Total Players\n",
       "0            573"
      ]
     },
     "execution_count": 4,
     "metadata": {},
     "output_type": "execute_result"
    }
   ],
   "source": [
    "#Finding the total number of players\n",
    "player_demo = purchase_df.loc[:, ['Gender', 'SN', 'Age']]\n",
    "player_demo = player_demo.drop_duplicates()\n",
    "num_players = player_demo.count()[0]\n",
    "total_df = pd.DataFrame({\"Total Players\":[num_players]})\n",
    "total_df"
   ]
  },
  {
   "cell_type": "markdown",
   "metadata": {},
   "source": [
    "## Purchasing Analysis (Total)"
   ]
  },
  {
   "cell_type": "code",
   "execution_count": 5,
   "metadata": {},
   "outputs": [
    {
     "data": {
      "text/html": [
       "<div>\n",
       "<style scoped>\n",
       "    .dataframe tbody tr th:only-of-type {\n",
       "        vertical-align: middle;\n",
       "    }\n",
       "\n",
       "    .dataframe tbody tr th {\n",
       "        vertical-align: top;\n",
       "    }\n",
       "\n",
       "    .dataframe thead th {\n",
       "        text-align: right;\n",
       "    }\n",
       "</style>\n",
       "<table border=\"1\" class=\"dataframe\">\n",
       "  <thead>\n",
       "    <tr style=\"text-align: right;\">\n",
       "      <th></th>\n",
       "      <th>Number of Unique Items</th>\n",
       "      <th>Average Price</th>\n",
       "      <th>Number of Purchases</th>\n",
       "      <th>Total Revenue</th>\n",
       "    </tr>\n",
       "  </thead>\n",
       "  <tbody>\n",
       "    <tr>\n",
       "      <th>0</th>\n",
       "      <td>179</td>\n",
       "      <td>$2.93</td>\n",
       "      <td>780</td>\n",
       "      <td>$2,286.33</td>\n",
       "    </tr>\n",
       "  </tbody>\n",
       "</table>\n",
       "</div>"
      ],
      "text/plain": [
       "   Number of Unique Items Average Price  Number of Purchases Total Revenue\n",
       "0                     179         $2.93                  780     $2,286.33"
      ]
     },
     "execution_count": 5,
     "metadata": {},
     "output_type": "execute_result"
    }
   ],
   "source": [
    "#Number of unique items\n",
    "unique_items = len(purchase_df['Item Name'].unique())\n",
    "#Average purchase price\n",
    "avg_price = pd.to_numeric(purchase_df['Price'].mean())\n",
    "#Total number of purchases\n",
    "num_purchases = purchase_df['Price'].count()\n",
    "#Total revenue\n",
    "total_rev = pd.to_numeric(purchase_df['Price'].sum())\n",
    "#Create purchase analysis Data Frame\n",
    "purchase_analysis = pd.DataFrame({\"Number of Unique Items\":[unique_items],\n",
    "                                 \"Average Price\": [avg_price],\n",
    "                                 \"Number of Purchases\":[num_purchases],\n",
    "                                 \"Total Revenue\":[total_rev]})\n",
    "purchase_analysis[\"Average Price\"] = purchase_analysis[\"Average Price\"].map(\"${:.2f}\".format)\n",
    "purchase_analysis[\"Total Revenue\"] = purchase_analysis[\"Total Revenue\"].map(\"${:,.2f}\".format)\n",
    "organized_pa = purchase_analysis[[\"Number of Unique Items\", \"Average Price\", \"Number of Purchases\", \"Total Revenue\"]]\n",
    "organized_pa"
   ]
  },
  {
   "cell_type": "markdown",
   "metadata": {},
   "source": [
    "## Gender Demographics"
   ]
  },
  {
   "cell_type": "code",
   "execution_count": 7,
   "metadata": {
    "scrolled": true
   },
   "outputs": [
    {
     "data": {
      "text/html": [
       "<div>\n",
       "<style scoped>\n",
       "    .dataframe tbody tr th:only-of-type {\n",
       "        vertical-align: middle;\n",
       "    }\n",
       "\n",
       "    .dataframe tbody tr th {\n",
       "        vertical-align: top;\n",
       "    }\n",
       "\n",
       "    .dataframe thead th {\n",
       "        text-align: right;\n",
       "    }\n",
       "</style>\n",
       "<table border=\"1\" class=\"dataframe\">\n",
       "  <thead>\n",
       "    <tr style=\"text-align: right;\">\n",
       "      <th></th>\n",
       "      <th>Percentage of Players</th>\n",
       "      <th>Total Count</th>\n",
       "    </tr>\n",
       "  </thead>\n",
       "  <tbody>\n",
       "    <tr>\n",
       "      <th>Male</th>\n",
       "      <td>81.15</td>\n",
       "      <td>465</td>\n",
       "    </tr>\n",
       "    <tr>\n",
       "      <th>Female</th>\n",
       "      <td>17.45</td>\n",
       "      <td>100</td>\n",
       "    </tr>\n",
       "    <tr>\n",
       "      <th>Other / Non-Disclosed</th>\n",
       "      <td>1.40</td>\n",
       "      <td>8</td>\n",
       "    </tr>\n",
       "  </tbody>\n",
       "</table>\n",
       "</div>"
      ],
      "text/plain": [
       "                      Percentage of Players  Total Count\n",
       "Male                                  81.15          465\n",
       "Female                                17.45          100\n",
       "Other / Non-Disclosed                  1.40            8"
      ]
     },
     "execution_count": 7,
     "metadata": {},
     "output_type": "execute_result"
    }
   ],
   "source": [
    "#Create Data Frame that shows gender value counts\n",
    "gender = pd.DataFrame(player_demo[\"Gender\"].value_counts())\n",
    "#Rename gender column to total counts\n",
    "gender_df = gender.rename(columns={\"Gender\": \"Total Count\"})\n",
    "#Percentage and count of male players\n",
    "male_count = gender_df.loc[\"Male\", \"Total Count\"]\n",
    "male_percent = (male_count / num_players)*100\n",
    "#Percentage and count of female players\n",
    "female_count = gender_df.loc[\"Female\", \"Total Count\"]\n",
    "female_percent = (female_count / num_players)*100 \n",
    "#Percentage and count of other/non-disclosed\n",
    "other_count = gender_df.loc[\"Other / Non-Disclosed\", \"Total Count\"]\n",
    "other_percent = (other_count / num_players)*100\n",
    "#Create Gender Demographics Data Frame\n",
    "gender_df['Percentage of Players'] = (male_percent, female_percent, other_percent)\n",
    "gender_df[\"Percentage of Players\"] = gender_df[\"Percentage of Players\"].map(\"{:.2f}\".format)\n",
    "organized_gender_df = gender_df[[\"Percentage of Players\", \"Total Count\"]]\n",
    "organized_gender_df"
   ]
  },
  {
   "cell_type": "markdown",
   "metadata": {},
   "source": [
    "## Purchasing Analysis (Gender)"
   ]
  },
  {
   "cell_type": "code",
   "execution_count": 14,
   "metadata": {},
   "outputs": [
    {
     "data": {
      "text/html": [
       "<div>\n",
       "<style scoped>\n",
       "    .dataframe tbody tr th:only-of-type {\n",
       "        vertical-align: middle;\n",
       "    }\n",
       "\n",
       "    .dataframe tbody tr th {\n",
       "        vertical-align: top;\n",
       "    }\n",
       "\n",
       "    .dataframe thead th {\n",
       "        text-align: right;\n",
       "    }\n",
       "</style>\n",
       "<table border=\"1\" class=\"dataframe\">\n",
       "  <thead>\n",
       "    <tr style=\"text-align: right;\">\n",
       "      <th></th>\n",
       "      <th>Purchase Count</th>\n",
       "      <th>Average Purchase Price</th>\n",
       "      <th>Total Purchase Value</th>\n",
       "      <th>Normalized Totals</th>\n",
       "    </tr>\n",
       "    <tr>\n",
       "      <th>Gender</th>\n",
       "      <th></th>\n",
       "      <th></th>\n",
       "      <th></th>\n",
       "      <th></th>\n",
       "    </tr>\n",
       "  </thead>\n",
       "  <tbody>\n",
       "    <tr>\n",
       "      <th>Female</th>\n",
       "      <td>136</td>\n",
       "      <td>$2.82</td>\n",
       "      <td>$382.91</td>\n",
       "      <td>$3.83</td>\n",
       "    </tr>\n",
       "    <tr>\n",
       "      <th>Male</th>\n",
       "      <td>633</td>\n",
       "      <td>$2.95</td>\n",
       "      <td>$1867.68</td>\n",
       "      <td>$4.02</td>\n",
       "    </tr>\n",
       "    <tr>\n",
       "      <th>Other / Non-Disclosed</th>\n",
       "      <td>11</td>\n",
       "      <td>$3.25</td>\n",
       "      <td>$35.74</td>\n",
       "      <td>$4.47</td>\n",
       "    </tr>\n",
       "  </tbody>\n",
       "</table>\n",
       "</div>"
      ],
      "text/plain": [
       "                       Purchase Count Average Purchase Price  \\\n",
       "Gender                                                         \n",
       "Female                            136                  $2.82   \n",
       "Male                              633                  $2.95   \n",
       "Other / Non-Disclosed              11                  $3.25   \n",
       "\n",
       "                      Total Purchase Value Normalized Totals  \n",
       "Gender                                                        \n",
       "Female                             $382.91             $3.83  \n",
       "Male                              $1867.68             $4.02  \n",
       "Other / Non-Disclosed               $35.74             $4.47  "
      ]
     },
     "execution_count": 14,
     "metadata": {},
     "output_type": "execute_result"
    }
   ],
   "source": [
    "#Total Purchase Count\n",
    "gender_total_purchase = purchase_df.groupby([\"Gender\"]).sum()[\"Price\"]\n",
    "#Average Purchase Count\n",
    "gender_avg_purchase = purchase_df.groupby([\"Gender\"]).mean()[\"Price\"]\n",
    "#Purchase Count\n",
    "gender_purchase_count = purchase_df.groupby([\"Gender\"]).count()[\"Price\"]\n",
    "#Normalized Totals\n",
    "gender_norm_totals = gender_total_purchase/organized_gender_df[\"Total Count\"]\n",
    "#Create Gender Purchasing Analysis Data Frame\n",
    "gender_pa_results = pd.DataFrame({\"Purchase Count\": gender_purchase_count, \"Average Purchase Price\": gender_avg_purchase,\n",
    "                               \"Total Purchase Value\": gender_total_purchase, \"Normalized Totals\": gender_norm_totals})\n",
    "gender_pa_results[\"Average Purchase Price\"] = gender_pa_results[\"Average Purchase Price\"].map(\"${:.2f}\".format)\n",
    "gender_pa_results[\"Total Purchase Value\"] = gender_pa_results[\"Total Purchase Value\"].map(\"${:.2f}\".format)\n",
    "gender_pa_results[\"Normalized Totals\"] = gender_pa_results[\"Normalized Totals\"].map(\"${:.2f}\".format)\n",
    "organized_gender_pa = gender_pa_results.loc[:, [\"Purchase Count\", \"Average Purchase Price\", \"Total Purchase Value\", \"Normalized Totals\"]]\n",
    "organized_gender_pa"
   ]
  },
  {
   "cell_type": "markdown",
   "metadata": {},
   "source": [
    "## Age Demographics"
   ]
  },
  {
   "cell_type": "code",
   "execution_count": 19,
   "metadata": {},
   "outputs": [
    {
     "data": {
      "text/html": [
       "<div>\n",
       "<style scoped>\n",
       "    .dataframe tbody tr th:only-of-type {\n",
       "        vertical-align: middle;\n",
       "    }\n",
       "\n",
       "    .dataframe tbody tr th {\n",
       "        vertical-align: top;\n",
       "    }\n",
       "\n",
       "    .dataframe thead th {\n",
       "        text-align: right;\n",
       "    }\n",
       "</style>\n",
       "<table border=\"1\" class=\"dataframe\">\n",
       "  <thead>\n",
       "    <tr style=\"text-align: right;\">\n",
       "      <th></th>\n",
       "      <th>Percentage of Players</th>\n",
       "      <th>Total Count</th>\n",
       "    </tr>\n",
       "  </thead>\n",
       "  <tbody>\n",
       "    <tr>\n",
       "      <th>5 to 15</th>\n",
       "      <td>13.26</td>\n",
       "      <td>76</td>\n",
       "    </tr>\n",
       "    <tr>\n",
       "      <th>15 to 25</th>\n",
       "      <td>65.10</td>\n",
       "      <td>373</td>\n",
       "    </tr>\n",
       "    <tr>\n",
       "      <th>25 to 35</th>\n",
       "      <td>16.75</td>\n",
       "      <td>96</td>\n",
       "    </tr>\n",
       "    <tr>\n",
       "      <th>35 to 50</th>\n",
       "      <td>4.89</td>\n",
       "      <td>28</td>\n",
       "    </tr>\n",
       "  </tbody>\n",
       "</table>\n",
       "</div>"
      ],
      "text/plain": [
       "          Percentage of Players  Total Count\n",
       "5 to 15                   13.26           76\n",
       "15 to 25                  65.10          373\n",
       "25 to 35                  16.75           96\n",
       "35 to 50                   4.89           28"
      ]
     },
     "execution_count": 19,
     "metadata": {},
     "output_type": "execute_result"
    }
   ],
   "source": [
    "#Create bins of 4 years\n",
    "age_bins = [5,15,25,35,50]\n",
    "age_group_labels = [\"5 to 15\", \"15 to 25\", \"25 to 35\", \"35 to 50\"]\n",
    "#Categorize the existing players using the age bins\n",
    "player_demo[\"Age Group\"] = pd.cut(player_demo[\"Age\"], age_bins, labels = age_group_labels)\n",
    "#Player count by age\n",
    "age_demo_totals = player_demo[\"Age Group\"].value_counts()\n",
    "#Percentage of players by age\n",
    "age_demo_percent = age_demo_totals/num_players * 100\n",
    "age_demo = pd.DataFrame({\"Total Count\": age_demo_totals, \"Percentage of Players\": age_demo_percent})\n",
    "age_demo = age_demo.round(2)\n",
    "age_demo.sort_index()"
   ]
  },
  {
   "cell_type": "markdown",
   "metadata": {},
   "source": [
    "## Purchasing Analysis (Age)"
   ]
  },
  {
   "cell_type": "code",
   "execution_count": 20,
   "metadata": {},
   "outputs": [
    {
     "data": {
      "text/html": [
       "<div>\n",
       "<style scoped>\n",
       "    .dataframe tbody tr th:only-of-type {\n",
       "        vertical-align: middle;\n",
       "    }\n",
       "\n",
       "    .dataframe tbody tr th {\n",
       "        vertical-align: top;\n",
       "    }\n",
       "\n",
       "    .dataframe thead th {\n",
       "        text-align: right;\n",
       "    }\n",
       "</style>\n",
       "<table border=\"1\" class=\"dataframe\">\n",
       "  <thead>\n",
       "    <tr style=\"text-align: right;\">\n",
       "      <th></th>\n",
       "      <th>Purchase Count</th>\n",
       "      <th>Average Purchase Price</th>\n",
       "      <th>Total Purchase Value</th>\n",
       "      <th>Normalized Totals</th>\n",
       "    </tr>\n",
       "    <tr>\n",
       "      <th>Age Group</th>\n",
       "      <th></th>\n",
       "      <th></th>\n",
       "      <th></th>\n",
       "      <th></th>\n",
       "    </tr>\n",
       "  </thead>\n",
       "  <tbody>\n",
       "    <tr>\n",
       "      <th>5 to 15</th>\n",
       "      <td>110</td>\n",
       "      <td>$2.92</td>\n",
       "      <td>$320.77</td>\n",
       "      <td>$2.61</td>\n",
       "    </tr>\n",
       "    <tr>\n",
       "      <th>15 to 25</th>\n",
       "      <td>489</td>\n",
       "      <td>$2.93</td>\n",
       "      <td>$1,431.35</td>\n",
       "      <td>$2.60</td>\n",
       "    </tr>\n",
       "    <tr>\n",
       "      <th>25 to 35</th>\n",
       "      <td>134</td>\n",
       "      <td>$2.97</td>\n",
       "      <td>$398.08</td>\n",
       "      <td>$2.71</td>\n",
       "    </tr>\n",
       "    <tr>\n",
       "      <th>35 to 50</th>\n",
       "      <td>47</td>\n",
       "      <td>$2.90</td>\n",
       "      <td>$136.13</td>\n",
       "      <td>$2.67</td>\n",
       "    </tr>\n",
       "  </tbody>\n",
       "</table>\n",
       "</div>"
      ],
      "text/plain": [
       "           Purchase Count Average Purchase Price Total Purchase Value  \\\n",
       "Age Group                                                               \n",
       "5 to 15               110                  $2.92              $320.77   \n",
       "15 to 25              489                  $2.93            $1,431.35   \n",
       "25 to 35              134                  $2.97              $398.08   \n",
       "35 to 50               47                  $2.90              $136.13   \n",
       "\n",
       "          Normalized Totals  \n",
       "Age Group                    \n",
       "5 to 15               $2.61  \n",
       "15 to 25              $2.60  \n",
       "25 to 35              $2.71  \n",
       "35 to 50              $2.67  "
      ]
     },
     "execution_count": 20,
     "metadata": {},
     "output_type": "execute_result"
    }
   ],
   "source": [
    "#Bin the purchase_df\n",
    "purchase_df[\"Age Group\"] = pd.cut(purchase_df[\"Age\"], age_bins, labels = age_group_labels)\n",
    "grouped_age_df = purchase_df.groupby(\"Age Group\")\n",
    "#Purchase count\n",
    "age_price_count = grouped_age_df[\"Price\"].count()\n",
    "#Average purchase price\n",
    "age_avg_price = grouped_age_df[\"Price\"].mean()\n",
    "#Total purchase value\n",
    "age_total_price = grouped_age_df[\"Price\"].sum()\n",
    "#Normalized Totals\n",
    "age_std_price = grouped_age_df[\"Price\"].std()\n",
    "age_norm_total = age_avg_price/age_std_price\n",
    "#Create Age Purchase Analysis Data Frame\n",
    "age_demo_pa = pd.DataFrame({\"Purchase Count\": age_price_count, \"Average Purchase Price\": age_avg_price, \n",
    "                       \"Total Purchase Value\": age_total_price, \"Normalized Totals\": age_norm_total})\n",
    "age_demo_pa[\"Average Purchase Price\"] = age_demo_pa[\"Average Purchase Price\"].map(\"${:.2f}\".format)\n",
    "age_demo_pa[\"Total Purchase Value\"] = age_demo_pa[\"Total Purchase Value\"].map(\"${:,.2f}\".format)\n",
    "age_demo_pa[\"Normalized Totals\"] = age_demo_pa[\"Normalized Totals\"].map(\"${:.2f}\".format)\n",
    "organized_age_demo_pa = age_demo_pa[[\"Purchase Count\", \"Average Purchase Price\", \"Total Purchase Value\", \"Normalized Totals\"]]\n",
    "organized_age_demo_pa"
   ]
  },
  {
   "cell_type": "markdown",
   "metadata": {},
   "source": [
    "## Top Spenders"
   ]
  },
  {
   "cell_type": "code",
   "execution_count": 36,
   "metadata": {
    "scrolled": true
   },
   "outputs": [
    {
     "data": {
      "text/html": [
       "<div>\n",
       "<style scoped>\n",
       "    .dataframe tbody tr th:only-of-type {\n",
       "        vertical-align: middle;\n",
       "    }\n",
       "\n",
       "    .dataframe tbody tr th {\n",
       "        vertical-align: top;\n",
       "    }\n",
       "\n",
       "    .dataframe thead th {\n",
       "        text-align: right;\n",
       "    }\n",
       "</style>\n",
       "<table border=\"1\" class=\"dataframe\">\n",
       "  <thead>\n",
       "    <tr style=\"text-align: right;\">\n",
       "      <th></th>\n",
       "      <th>Purchase Count</th>\n",
       "      <th>Average Purchase Price</th>\n",
       "      <th>Total Purchase Value</th>\n",
       "    </tr>\n",
       "    <tr>\n",
       "      <th>SN</th>\n",
       "      <th></th>\n",
       "      <th></th>\n",
       "      <th></th>\n",
       "    </tr>\n",
       "  </thead>\n",
       "  <tbody>\n",
       "    <tr>\n",
       "      <th>Qarwen67</th>\n",
       "      <td>4</td>\n",
       "      <td>$2.49</td>\n",
       "      <td>$9.97</td>\n",
       "    </tr>\n",
       "    <tr>\n",
       "      <th>Sondim43</th>\n",
       "      <td>3</td>\n",
       "      <td>$3.13</td>\n",
       "      <td>$9.38</td>\n",
       "    </tr>\n",
       "    <tr>\n",
       "      <th>Tillyrin30</th>\n",
       "      <td>3</td>\n",
       "      <td>$3.06</td>\n",
       "      <td>$9.19</td>\n",
       "    </tr>\n",
       "    <tr>\n",
       "      <th>Lisistaya47</th>\n",
       "      <td>3</td>\n",
       "      <td>$3.06</td>\n",
       "      <td>$9.19</td>\n",
       "    </tr>\n",
       "    <tr>\n",
       "      <th>Tyisriphos58</th>\n",
       "      <td>2</td>\n",
       "      <td>$4.59</td>\n",
       "      <td>$9.18</td>\n",
       "    </tr>\n",
       "  </tbody>\n",
       "</table>\n",
       "</div>"
      ],
      "text/plain": [
       "              Purchase Count Average Purchase Price Total Purchase Value\n",
       "SN                                                                      \n",
       "Qarwen67                   4                  $2.49                $9.97\n",
       "Sondim43                   3                  $3.13                $9.38\n",
       "Tillyrin30                 3                  $3.06                $9.19\n",
       "Lisistaya47                3                  $3.06                $9.19\n",
       "Tyisriphos58               2                  $4.59                $9.18"
      ]
     },
     "execution_count": 36,
     "metadata": {},
     "output_type": "execute_result"
    }
   ],
   "source": [
    "##Top Spenders: Identify top 5 spenders by total purchase value and then list(in a table)##\n",
    "#Purchase Count\n",
    "top_spender_count = purchase_df.groupby([\"SN\"]).count()[\"Price\"]\n",
    "#Average Purchase Price\n",
    "top_spender_avg = purchase_df.groupby([\"SN\"]).mean()[\"Price\"]\n",
    "#Total Purchase Value\n",
    "top_spender_total = purchase_df.groupby([\"SN\"]).sum()[\"Price\"]\n",
    "#Create Top Spender Data Frame\n",
    "top_spender_results = pd.DataFrame({\"Purchase Count\": top_spender_count, \"Average Purchase Price\": top_spender_avg,\n",
    "                                    \"Total Purchase Value\": top_spender_total})\n",
    "top_spender_results[\"Average Purchase Price\"] = top_spender_results[\"Average Purchase Price\"].map(\"${:.2f}\".format)\n",
    "top_spender_results[\"Total Purchase Value\"] = top_spender_results[\"Total Purchase Value\"].map(\"${:.2f}\".format)\n",
    "top_spender_results = top_spender_results[[\"Purchase Count\", \"Average Purchase Price\", \"Total Purchase Value\"]]\n",
    "\n",
    "#Display table in descending order\n",
    "top_spender_results.sort_values(\"Total Purchase Value\", ascending = False).head()"
   ]
  },
  {
   "cell_type": "markdown",
   "metadata": {},
   "source": [
    "## Most Popular Items"
   ]
  },
  {
   "cell_type": "code",
   "execution_count": 37,
   "metadata": {},
   "outputs": [
    {
     "data": {
      "text/html": [
       "<div>\n",
       "<style scoped>\n",
       "    .dataframe tbody tr th:only-of-type {\n",
       "        vertical-align: middle;\n",
       "    }\n",
       "\n",
       "    .dataframe tbody tr th {\n",
       "        vertical-align: top;\n",
       "    }\n",
       "\n",
       "    .dataframe thead th {\n",
       "        text-align: right;\n",
       "    }\n",
       "</style>\n",
       "<table border=\"1\" class=\"dataframe\">\n",
       "  <thead>\n",
       "    <tr style=\"text-align: right;\">\n",
       "      <th></th>\n",
       "      <th></th>\n",
       "      <th>Purchase Count</th>\n",
       "      <th>Item Price</th>\n",
       "      <th>Total Purchase Value</th>\n",
       "    </tr>\n",
       "    <tr>\n",
       "      <th>Item ID</th>\n",
       "      <th>Item Name</th>\n",
       "      <th></th>\n",
       "      <th></th>\n",
       "      <th></th>\n",
       "    </tr>\n",
       "  </thead>\n",
       "  <tbody>\n",
       "    <tr>\n",
       "      <th>39</th>\n",
       "      <th>Betrayal, Whisper of Grieving Widows</th>\n",
       "      <td>11</td>\n",
       "      <td>$2.35</td>\n",
       "      <td>$25.85</td>\n",
       "    </tr>\n",
       "    <tr>\n",
       "      <th>84</th>\n",
       "      <th>Arcane Gem</th>\n",
       "      <td>11</td>\n",
       "      <td>$2.23</td>\n",
       "      <td>$24.53</td>\n",
       "    </tr>\n",
       "    <tr>\n",
       "      <th>31</th>\n",
       "      <th>Trickster</th>\n",
       "      <td>9</td>\n",
       "      <td>$2.07</td>\n",
       "      <td>$18.63</td>\n",
       "    </tr>\n",
       "    <tr>\n",
       "      <th>175</th>\n",
       "      <th>Woeful Adamantite Claymore</th>\n",
       "      <td>9</td>\n",
       "      <td>$1.24</td>\n",
       "      <td>$11.16</td>\n",
       "    </tr>\n",
       "    <tr>\n",
       "      <th>13</th>\n",
       "      <th>Serenity</th>\n",
       "      <td>9</td>\n",
       "      <td>$1.49</td>\n",
       "      <td>$13.41</td>\n",
       "    </tr>\n",
       "  </tbody>\n",
       "</table>\n",
       "</div>"
      ],
      "text/plain": [
       "                                              Purchase Count Item Price  \\\n",
       "Item ID Item Name                                                         \n",
       "39      Betrayal, Whisper of Grieving Widows              11      $2.35   \n",
       "84      Arcane Gem                                        11      $2.23   \n",
       "31      Trickster                                          9      $2.07   \n",
       "175     Woeful Adamantite Claymore                         9      $1.24   \n",
       "13      Serenity                                           9      $1.49   \n",
       "\n",
       "                                             Total Purchase Value  \n",
       "Item ID Item Name                                                  \n",
       "39      Betrayal, Whisper of Grieving Widows               $25.85  \n",
       "84      Arcane Gem                                         $24.53  \n",
       "31      Trickster                                          $18.63  \n",
       "175     Woeful Adamantite Claymore                         $11.16  \n",
       "13      Serenity                                           $13.41  "
      ]
     },
     "execution_count": 37,
     "metadata": {},
     "output_type": "execute_result"
    }
   ],
   "source": [
    "##Most Popular Items: Identify the 5 most popular items by purchase count, then list (in a table)##\n",
    "#Item ID\n",
    "#Item Name\n",
    "#Purchase Total\n",
    "pop_items_total = purchase_df.groupby([\"Item ID\", \"Item Name\"]).sum()[\"Price\"]\n",
    "#Purchase Price\n",
    "pop_items_price = purchase_df.groupby([\"Item ID\", \"Item Name\"]).mean()[\"Price\"]\n",
    "#Purchase Count\n",
    "pop_items_count = purchase_df.groupby([\"Item ID\", \"Item Name\"]).count()[\"Price\"]\n",
    "#Create Most Popular Items Data Frame\n",
    "pop_items_results = pd.DataFrame({\"Purchase Count\": pop_items_count, \"Item Price\": pop_items_price,\n",
    "                                  \"Total Purchase Value\": pop_items_total})\n",
    "#pop_items_results.head()\n",
    "pop_items_results = pop_items_results[[\"Purchase Count\", \"Item Price\", \"Total Purchase Value\"]]\n",
    "pop_items_results = pop_items_results.sort_values(\"Purchase Count\", ascending = False)\n",
    "pop_items_results[\"Item Price\"] = pop_items_results[\"Item Price\"].map(\"${:.2f}\".format)\n",
    "pop_items_results[\"Total Purchase Value\"] = pop_items_results[\"Total Purchase Value\"].map(\"${:.2f}\".format)\n",
    "pop_items_results.head()"
   ]
  },
  {
   "cell_type": "markdown",
   "metadata": {
    "collapsed": true
   },
   "source": [
    "## Most Profitable Items "
   ]
  },
  {
   "cell_type": "code",
   "execution_count": 31,
   "metadata": {},
   "outputs": [
    {
     "data": {
      "text/html": [
       "<div>\n",
       "<style scoped>\n",
       "    .dataframe tbody tr th:only-of-type {\n",
       "        vertical-align: middle;\n",
       "    }\n",
       "\n",
       "    .dataframe tbody tr th {\n",
       "        vertical-align: top;\n",
       "    }\n",
       "\n",
       "    .dataframe thead th {\n",
       "        text-align: right;\n",
       "    }\n",
       "</style>\n",
       "<table border=\"1\" class=\"dataframe\">\n",
       "  <thead>\n",
       "    <tr style=\"text-align: right;\">\n",
       "      <th></th>\n",
       "      <th></th>\n",
       "      <th>Purchase Count</th>\n",
       "      <th>Item Price</th>\n",
       "      <th>Total Purchase Value</th>\n",
       "    </tr>\n",
       "    <tr>\n",
       "      <th>Item ID</th>\n",
       "      <th>Item Name</th>\n",
       "      <th></th>\n",
       "      <th></th>\n",
       "      <th></th>\n",
       "    </tr>\n",
       "  </thead>\n",
       "  <tbody>\n",
       "    <tr>\n",
       "      <th>34</th>\n",
       "      <th>Retribution Axe</th>\n",
       "      <td>9</td>\n",
       "      <td>$4.14</td>\n",
       "      <td>$37.26</td>\n",
       "    </tr>\n",
       "    <tr>\n",
       "      <th>115</th>\n",
       "      <th>Spectral Diamond Doomblade</th>\n",
       "      <td>7</td>\n",
       "      <td>$4.25</td>\n",
       "      <td>$29.75</td>\n",
       "    </tr>\n",
       "    <tr>\n",
       "      <th>32</th>\n",
       "      <th>Orenmir</th>\n",
       "      <td>6</td>\n",
       "      <td>$4.95</td>\n",
       "      <td>$29.70</td>\n",
       "    </tr>\n",
       "    <tr>\n",
       "      <th>103</th>\n",
       "      <th>Singed Scalpel</th>\n",
       "      <td>6</td>\n",
       "      <td>$4.87</td>\n",
       "      <td>$29.22</td>\n",
       "    </tr>\n",
       "    <tr>\n",
       "      <th>107</th>\n",
       "      <th>Splitter, Foe Of Subtlety</th>\n",
       "      <td>8</td>\n",
       "      <td>$3.61</td>\n",
       "      <td>$28.88</td>\n",
       "    </tr>\n",
       "  </tbody>\n",
       "</table>\n",
       "</div>"
      ],
      "text/plain": [
       "                                    Purchase Count Item Price  \\\n",
       "Item ID Item Name                                               \n",
       "34      Retribution Axe                          9      $4.14   \n",
       "115     Spectral Diamond Doomblade               7      $4.25   \n",
       "32      Orenmir                                  6      $4.95   \n",
       "103     Singed Scalpel                           6      $4.87   \n",
       "107     Splitter, Foe Of Subtlety                8      $3.61   \n",
       "\n",
       "                                   Total Purchase Value  \n",
       "Item ID Item Name                                        \n",
       "34      Retribution Axe                          $37.26  \n",
       "115     Spectral Diamond Doomblade               $29.75  \n",
       "32      Orenmir                                  $29.70  \n",
       "103     Singed Scalpel                           $29.22  \n",
       "107     Splitter, Foe Of Subtlety                $28.88  "
      ]
     },
     "execution_count": 31,
     "metadata": {},
     "output_type": "execute_result"
    }
   ],
   "source": [
    "##Most Profitable Items: Identify the 5 most profitable items by total purchase value, then list(in a table)##\n",
    "#Item Id\n",
    "#Item Name\n",
    "#Purchase Total\n",
    "profitable_items_total = purchase_df.groupby([\"Item ID\", \"Item Name\"]).sum()[\"Price\"]\n",
    "#Item Price\n",
    "profitable_items_price = purchase_df.groupby([\"Item ID\", \"Item Name\"]).mean()[\"Price\"]\n",
    "#Purchase Count\n",
    "profitable_items_count = purchase_df.groupby([\"Item ID\", \"Item Name\"]).count()[\"Price\"]\n",
    "#Create Most Profitable Items Data Frame\n",
    "profitable_items_results = pd.DataFrame({\"Purchase Count\": profitable_items_count, \"Item Price\": profitable_items_price,\n",
    "                                         \"Total Purchase Value\": profitable_items_total})\n",
    "#profitable_items_results.head()\n",
    "profitable_items_results = profitable_items_results[[\"Purchase Count\", \"Item Price\", \"Total Purchase Value\"]]\n",
    "profitable_items_results = profitable_items_results.sort_values(\"Total Purchase Value\", ascending = False)\n",
    "profitable_items_results[\"Item Price\"] = profitable_items_results[\"Item Price\"].map(\"${:.2f}\".format)\n",
    "profitable_items_results[\"Total Purchase Value\"] = profitable_items_results[\"Total Purchase Value\"].map(\"${:.2f}\".format)\n",
    "profitable_items_results.head()"
   ]
  }
 ],
 "metadata": {
  "kernelspec": {
   "display_name": "Python [conda env:PythonData2]",
   "language": "python",
   "name": "conda-env-PythonData2-py"
  },
  "language_info": {
   "codemirror_mode": {
    "name": "ipython",
    "version": 3
   },
   "file_extension": ".py",
   "mimetype": "text/x-python",
   "name": "python",
   "nbconvert_exporter": "python",
   "pygments_lexer": "ipython3",
   "version": "3.6.3"
  }
 },
 "nbformat": 4,
 "nbformat_minor": 2
}
